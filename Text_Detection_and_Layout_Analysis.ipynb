{
  "cells": [
    {
      "cell_type": "markdown",
      "metadata": {
        "id": "view-in-github",
        "colab_type": "text"
      },
      "source": [
        "<a href=\"https://colab.research.google.com/github/Paushi2003/Text-Detection-and-Layout-Analysis/blob/main/Text_Detection_and_Layout_Analysis.ipynb\" target=\"_parent\"><img src=\"https://colab.research.google.com/assets/colab-badge.svg\" alt=\"Open In Colab\"/></a>"
      ]
    },
    {
      "cell_type": "code",
      "execution_count": null,
      "metadata": {
        "id": "TKqWofnqVYD7"
      },
      "outputs": [],
      "source": [
        "'''\n",
        "  This project has been divided into 2 sub tasks. One is Text Detection and the other is Layout Analysis.\n",
        "  Modules required for image files: tesseract-ocr, pytesseract, cv2, numpy, PIL.\n",
        "  Modules required for pdf files: pdf2image, poppler-utils (dependency library for pdf2image), numpy.\n",
        "  UI has been created using Streamlit.\n",
        "  Install all the required libraries.\n",
        "'''\n",
        "\n",
        "!sudo apt install tesseract-ocr poppler-utils \n",
        "!pip install pytesseract streamlit layoutparser pdf2image\n",
        "!pip install 'git+https://github.com/facebookresearch/detectron2.git@v0.4#egg=detectron2'"
      ]
    },
    {
      "cell_type": "code",
      "source": [
        "'''\n",
        "  Firstly, import all the required library files. Three functions are used here:\n",
        "  text_detection: detect text areas and visualize with a bounding box.\n",
        "  parserIMG: Layout Analysis for image documents.\n",
        "  parserPDF: Layout Analysis for pdf documents.\n",
        "\n",
        "  text_detection:-\n",
        "    The input image is converted into a numpy array. The image is then passed on\n",
        "    to the function image_to_data from pytesseract module. This locates the text\n",
        "    position so that we shall draw the bounding boxes. For each word, the point \n",
        "    of origin/ position has been returned in the form of list. The elements at \n",
        "    the 6th, 7th, 8th, 9th indices denotes x-coordinate, y-coordinate, width, \n",
        "    height of the word respectively. A bounding box is drawn at those regions. \n",
        "\n",
        "  parserIMG:-\n",
        "    This function is to perform layout analysis for image data. Detectron2Layout \n",
        "    model is used which uses R-CNN to detect and classfiy layout objects. The\n",
        "    results from the layout analysis is visualized using bounding box, along with\n",
        "    text annotation that shows the element type. The image after performing layout \n",
        "    analysis is displayed.\n",
        "\n",
        "  parserPDF:-\n",
        "    The document which is in the form of pdf when fed as input, it is converted into\n",
        "    a list of images using pdf2image module. The images are converted into numpy\n",
        "    array. Each image is passed on to the Detectron2Layout model, where each page\n",
        "    is treated as a single image document and bounding box is drawn for the same to\n",
        "    visualize the layout elements. Each page of the pdf is displayed after performing\n",
        "    layout analysis.   \n",
        "'''"
      ],
      "metadata": {
        "id": "E-NXEurSVXOL"
      },
      "execution_count": null,
      "outputs": []
    },
    {
      "cell_type": "code",
      "execution_count": null,
      "metadata": {
        "id": "os794Oa0U6pi"
      },
      "outputs": [],
      "source": [
        "%%writefile app.py\n",
        "import streamlit as st\n",
        "import pytesseract\n",
        "import cv2\n",
        "import pdf2image\n",
        "import numpy as np\n",
        "import layoutparser as lp\n",
        "from PIL import Image\n",
        "\n",
        "\n",
        "def text_detection(img):\n",
        "  img1 = Image.open(img)\n",
        "  res = np.array(img1)\n",
        "  with st.spinner('Processing Text Detection'):\n",
        "    boxes = pytesseract.image_to_data(res)\n",
        "    for i,b in enumerate(boxes.splitlines()): \n",
        "      if i!=0:\n",
        "        b = b.split()\n",
        "        if len(b)==12:\n",
        "          x,y,w,h = int(b[6]),int(b[7]),int(b[8]),int(b[9])\n",
        "          res = cv2.rectangle(res,(x-5,y-5),(w+x+5,h+y+5),(0,0,255),3) \n",
        "          #res = cv2.putText(res,b[11],(x,y),cv2.FONT_HERSHEY_COMPLEX,1,(50,50,255),2)\n",
        "  st.subheader(\"Text Detection\")\n",
        "  st.image(res)\n",
        "\n",
        "def parserIMG(path):\n",
        "  res = Image.open(path)\n",
        "  with st.spinner('Processing Layout Analysis'):\n",
        "    model = lp.Detectron2LayoutModel('lp://PubLayNet/faster_rcnn_R_50_FPN_3x/config',\n",
        "                                  extra_config=[\"MODEL.ROI_HEADS.SCORE_THRESH_TEST\", 0.8],\n",
        "                                  label_map={0: \"Text\", 1: \"Title\", 2: \"List\", 3:\"Table\", 4:\"Figure\"})\n",
        "    layout_result = model.detect(res)\n",
        "    res=lp.draw_box(res, layout_result,  box_width=5, box_alpha=0.2, show_element_type=True)\n",
        "  st.subheader(\"Layout Analysis\")\n",
        "  st.image(res)\n",
        "\n",
        "def parserPDF(path):\n",
        "  img = np.asarray(pdf2image.convert_from_bytes(path.read()))\n",
        "  st.subheader(\"Layout Analysis\")\n",
        "\n",
        "  with st.spinner('Processing Layout Analysis'):\n",
        "    model = lp.Detectron2LayoutModel('lp://PubLayNet/faster_rcnn_R_50_FPN_3x/config',\n",
        "                                  extra_config=[\"MODEL.ROI_HEADS.SCORE_THRESH_TEST\", 0.8],\n",
        "                                  label_map={0: \"Text\", 1: \"Title\", 2: \"List\", 3:\"Table\", 4:\"Figure\"})\n",
        "    for i in img:\n",
        "      layout_result = model.detect(i)\n",
        "      i=lp.draw_box(i, layout_result,  box_width=5, box_alpha=0.2, show_element_type=True)\n",
        "      st.image(i)\n",
        "\n",
        "#title \n",
        "st.title('Text Detection & Layout Analysis')\n",
        "#uploading file\n",
        "file = st.file_uploader(label='Upload your document here',type=['png','jpg','jpeg','pdf'])\n",
        "button = st.button('Confirm')\n",
        "if button and file is not None:\n",
        "    if file.type==\"image/png\" or file.type==\"image/jpg\" or file.type==\"image/jpeg\":\n",
        "      parserIMG(file)\n",
        "      text_detection(file)\n",
        "    elif file.type == \"application/pdf\":\n",
        "      parserPDF(file)\n",
        "\n"
      ]
    },
    {
      "cell_type": "code",
      "execution_count": null,
      "metadata": {
        "id": "0KwwTPMHVRIL"
      },
      "outputs": [],
      "source": [
        "!streamlit run app.py & npx localtunnel --port 8501 "
      ]
    }
  ],
  "metadata": {
    "colab": {
      "provenance": [],
      "authorship_tag": "ABX9TyNR7CRhwlD2/rNJmK+ya38V",
      "include_colab_link": true
    },
    "gpuClass": "standard",
    "kernelspec": {
      "display_name": "Python 3",
      "name": "python3"
    },
    "language_info": {
      "name": "python"
    }
  },
  "nbformat": 4,
  "nbformat_minor": 0
}